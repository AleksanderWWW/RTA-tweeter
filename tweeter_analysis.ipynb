{
 "cells": [
  {
   "cell_type": "code",
   "execution_count": 1,
   "id": "00c35a45",
   "metadata": {},
   "outputs": [
    {
     "data": {
      "text/plain": [
       "'Real-time analysis project - tweeter sentiment analysis'"
      ]
     },
     "execution_count": 1,
     "metadata": {},
     "output_type": "execute_result"
    }
   ],
   "source": [
    "\"\"\"Real-time analysis project - tweeter sentiment analysis\"\"\""
   ]
  },
  {
   "cell_type": "code",
   "execution_count": 2,
   "id": "a83bee2d",
   "metadata": {},
   "outputs": [],
   "source": [
    "import requests\n",
    "import json"
   ]
  },
  {
   "cell_type": "code",
   "execution_count": 3,
   "id": "e8905e26",
   "metadata": {},
   "outputs": [],
   "source": [
    "# =============================================================\n",
    "# CONFIGURATION\n",
    "# =============================================================\n",
    "with open(\"config.json\", \"r\", encoding='utf-8') as conf:\n",
    "    config = json.load(conf)"
   ]
  },
  {
   "cell_type": "code",
   "execution_count": 4,
   "id": "abc1f334",
   "metadata": {},
   "outputs": [],
   "source": [
    "class ApiConnector:\n",
    "    \"\"\"Object providing methods for tweeter data scraping based on hashtag list provided by user\"\"\"\n",
    "    \n",
    "    url_base = \"https://api.twitter.com/2/tweets/search/recent?query={}&max_results={}\"\n",
    "    \n",
    "    def __init__(self, mandatory_hashtags: list, max_results: int, bearer_token: str, *optional_hashtags):\n",
    "        self.hashtags = mandatory_hashtags\n",
    "        self.optional_hashtags = optional_hashtags\n",
    "        self.max_results = max_results\n",
    "        self.headers = {\"Authorization\": f\"Bearer {bearer_token}\"}\n",
    "        \n",
    "    @property\n",
    "    def query(self) -> str:\n",
    "        \n",
    "        _query_list = [\"%23\" + self.hashtags[0]]\n",
    "        \n",
    "        for tag in self.hashtags[1:]:\n",
    "            _query_list.append(\"%20%23\" + tag)  # add mandatory hashtags\n",
    "        \n",
    "        for opt_tag in self.optional_hashtags:\n",
    "            _query_list.append(\"%20OR%20%23\" + opt_tag)  # add optional hashtags\n",
    "            \n",
    "        _query = \"\".join(_query_list)\n",
    "        return _query\n",
    "        \n",
    "        \n",
    "    def get_hashtags(self) -> list:\n",
    "        return self.hashtags\n",
    "    \n",
    "    def set_hashtags(self, hashtags: list):\n",
    "        self.hashtags = hashtags\n",
    "        \n",
    "    def get_max_results(self) -> int:\n",
    "        return self.max_results\n",
    "        \n",
    "    def set_max_results(max_results: int):\n",
    "        self.max_results = max_results\n",
    "        \n",
    "    @property\n",
    "    def api_url(self) -> str:\n",
    "        return self.url_base.format(self.query, self.max_results)\n",
    "    \n",
    "    def get_tweets(self) -> list:\n",
    "        \"\"\"Returns a list containing text attributes of scraped tweets\"\"\"\n",
    "        session = requests.Session()\n",
    "        response = session.get(self.api_url, headers=self.headers)\n",
    "        session.close()\n",
    "        \n",
    "        tweets = response.json()[\"data\"]\n",
    "        return [tweet[\"text\"] for tweet in tweets]"
   ]
  },
  {
   "cell_type": "code",
   "execution_count": 5,
   "id": "0393ff73",
   "metadata": {},
   "outputs": [],
   "source": [
    "_HASHTAGS = [\"polskilad\", \"polskiwal\", \"nowylad\", \"nowywal\", \"drozyznapis\"]\n",
    "_MAX_RESULTS = 100"
   ]
  },
  {
   "cell_type": "code",
   "execution_count": 6,
   "id": "65b79604",
   "metadata": {},
   "outputs": [
    {
     "name": "stdout",
     "output_type": "stream",
     "text": [
      "['Myślę, że od 2023 roku #PolskiLad zyska nowego patcha, który będzie miał za zadanie usunąć wszystkie bugi znalezione do tej pory przez userów.\\n#PolskiWał #NowyWał #NowyŁad #drozyznapis #inflacja', 'CO O TYM SĄDZICIE?\\n\\n#PolskiLad #PolskiNieład #PolskiWał #PolskiŁad #NowyWał #NowyŁad #inflacja #drozyznapis https://t.co/y7JJLiz5dt', 'Panie @CzarnekP czy pokaże Pan konsekwencję i  odwoła kurator Barbarę Nowak ? Wiem , wiem za dużo wymagam - swoich nie wolno ruszać.\\n#PolskiLad #PolskiNieład #PolskiWał #PolskiŁad #NowyWał #NowyŁad #inflacja #drozyznapis https://t.co/ZDiCrxqx5o']\n"
     ]
    }
   ],
   "source": [
    "conn = ApiConnector(_HASHTAGS,\n",
    "                   _MAX_RESULTS,\n",
    "                   config[\"bearer_token\"])\n",
    "\n",
    "results = conn.get_tweets()\n",
    "print(results[:10])  # print first 10 results"
   ]
  }
 ],
 "metadata": {
  "@webio": {
   "lastCommId": null,
   "lastKernelId": null
  },
  "kernelspec": {
   "display_name": "Python 3",
   "language": "python",
   "name": "python3"
  },
  "language_info": {
   "codemirror_mode": {
    "name": "ipython",
    "version": 3
   },
   "file_extension": ".py",
   "mimetype": "text/x-python",
   "name": "python",
   "nbconvert_exporter": "python",
   "pygments_lexer": "ipython3",
   "version": "3.9.6"
  },
  "toc": {
   "base_numbering": 1,
   "nav_menu": {},
   "number_sections": true,
   "sideBar": true,
   "skip_h1_title": false,
   "title_cell": "Table of Contents",
   "title_sidebar": "Contents",
   "toc_cell": false,
   "toc_position": {},
   "toc_section_display": true,
   "toc_window_display": false
  }
 },
 "nbformat": 4,
 "nbformat_minor": 5
}
