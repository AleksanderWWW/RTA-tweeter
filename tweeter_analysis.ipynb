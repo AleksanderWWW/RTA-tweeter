{
 "cells": [
  {
   "cell_type": "code",
   "execution_count": 1,
   "id": "b5c8d286",
   "metadata": {},
   "outputs": [
    {
     "data": {
      "text/plain": [
       "'Real-time analysis project - tweeter sentiment analysis'"
      ]
     },
     "execution_count": 1,
     "metadata": {},
     "output_type": "execute_result"
    }
   ],
   "source": [
    "\"\"\"Real-time analysis project - tweeter sentiment analysis\"\"\""
   ]
  },
  {
   "cell_type": "code",
   "execution_count": 2,
   "id": "9eb44341",
   "metadata": {},
   "outputs": [],
   "source": [
    "import requests\n",
    "import json"
   ]
  },
  {
   "cell_type": "code",
   "execution_count": 3,
   "id": "93dcd8de",
   "metadata": {},
   "outputs": [],
   "source": [
    "# =============================================================\n",
    "# CONFIGURATION\n",
    "# =============================================================\n",
    "with open(\"config.json\", \"r\", encoding='utf-8') as conf:\n",
    "    config = json.load(conf)"
   ]
  },
  {
   "cell_type": "code",
   "execution_count": 4,
   "id": "8d38176f",
   "metadata": {},
   "outputs": [],
   "source": [
    "class ApiConnector:\n",
    "    \"\"\"Object providing methods for tweeter data scraping based on hashtag list provided by user\"\"\"\n",
    "    \n",
    "    url_base = \"https://api.twitter.com/2/tweets/search/recent?query={}&max_results={}\"\n",
    "    \n",
    "    def __init__(self, hashtags: list, max_results: int, bearer_token: str):\n",
    "        self.hashtags = hashtags\n",
    "        self.max_results = max_results\n",
    "        \n",
    "        _query_list = [\"%23\" + hashtags[0]]\n",
    "        for tag in hashtags[1:]:\n",
    "            _query_list.append(\"%20OR%20%23\" + tag)\n",
    "        self._query = \"\".join(_query_list)\n",
    "        \n",
    "        self.headers = {\"Authorization\": f\"Bearer {bearer_token}\"}\n",
    "        \n",
    "    def get_hashtags(self) -> list:\n",
    "        return self.hashtags\n",
    "    \n",
    "    def set_hashtags(self, hashtags: list):\n",
    "        self.hashtags = hashtags\n",
    "        \n",
    "    def get_max_results(self) -> int:\n",
    "        return self.max_results\n",
    "        \n",
    "    def set_max_results(max_results: int):\n",
    "        self.max_results = max_results\n",
    "        \n",
    "    @property\n",
    "    def api_url(self) -> str:\n",
    "        return self.url_base.format(self._query, self.max_results)\n",
    "    \n",
    "    def get_tweets(self) -> list:\n",
    "        \"\"\"Returns a list containing text attributes of scraped tweets\"\"\"\n",
    "        session = requests.Session()\n",
    "        response = session.get(self.api_url, headers=self.headers)\n",
    "        session.close()\n",
    "        \n",
    "        tweets = response.json()[\"data\"]\n",
    "        return [tweet[\"text\"] for tweet in tweets]"
   ]
  },
  {
   "cell_type": "code",
   "execution_count": 5,
   "id": "28a6e13c",
   "metadata": {},
   "outputs": [],
   "source": [
    "_HASHTAGS = [\"pis\", \"nowylad\"]\n",
    "_MAX_RESULTS = 100"
   ]
  },
  {
   "cell_type": "code",
   "execution_count": 6,
   "id": "574dbeb1",
   "metadata": {},
   "outputs": [
    {
     "name": "stdout",
     "output_type": "stream",
     "text": [
      "['@tvp_info To straszne. Jak tu przeżyć za te marne 15 czy 20 tyś 🤦🐏🤦🐏??!! No głodować będą. A co ma powiedzieć emeryt, który dostaje 1200zl?! Leki drogie, żywność jeszcze droższa, rachunki wyższe więc musi wybrać czy będzie jadł czy się leczył czy zrobi opłaty!! #PiS jesteście porażką!!', 'RT @WideoWyborcza: Jak się dowiedzieliśmy, na spotkaniu Kaczyńskiego z antyszczepionkowcami posłanka Kurowska przyniosła figurkę św. Andrze…', 'RT @Bart_Wielinski: Czy #Kaczyński \"pójdzie siedzieć\"? Sam prezes #PiS się tego boi i przestrzega przed oddaniem władzy \\n\\nWg. analizy prawn…', 'RT @WideoWyborcza: Jak się dowiedzieliśmy, na spotkaniu Kaczyńskiego z antyszczepionkowcami posłanka Kurowska przyniosła figurkę św. Andrze…', 'RT @WideoWyborcza: Jak się dowiedzieliśmy, na spotkaniu Kaczyńskiego z antyszczepionkowcami posłanka Kurowska przyniosła figurkę św. Andrze…', 'RT @krzysztofzolo: @JEmilewicz Byłaś #PISowską SZMATĄ i do końca życia zostaniesz. A Ty, Twoje dzieci zawsze będą wytykane palcami ... \\nA t…', 'RT @pisorgpl: Poseł #PiS @KrajewskiJarek w #Sejm: Rodzina z dwójką dzieci zyska w ciągu 6 miesięcy ponad 334 zł po obniżce podatku #VAT na…', 'RT @natematpl: I co, fajnie jest?! Macie ruinę, w którą nie wierzyliście. \"Polski wał\", inflacja, drożyzna, covid \\nhttps://t.co/ypgEfXBuFE…', 'RT @Bart_Wielinski: Dziś w Sejmie premier Morawiecki atakował \"brukselskie elity\".\\nJeszcze niedawno żebrał u nich o pieniądze i przekonywał…', 'RT @WideoWyborcza: Jak się dowiedzieliśmy, na spotkaniu Kaczyńskiego z antyszczepionkowcami posłanka Kurowska przyniosła figurkę św. Andrze…']\n"
     ]
    }
   ],
   "source": [
    "conn = ApiConnector(hashtags=_HASHTAGS,\n",
    "                   max_results=_MAX_RESULTS,\n",
    "                   bearer_token=config[\"bearer_token\"])\n",
    "\n",
    "results = conn.get_tweets()\n",
    "print(results[:10])  # print first 10 results"
   ]
  }
 ],
 "metadata": {
  "@webio": {
   "lastCommId": null,
   "lastKernelId": null
  },
  "kernelspec": {
   "display_name": "Python 3",
   "language": "python",
   "name": "python3"
  },
  "language_info": {
   "codemirror_mode": {
    "name": "ipython",
    "version": 3
   },
   "file_extension": ".py",
   "mimetype": "text/x-python",
   "name": "python",
   "nbconvert_exporter": "python",
   "pygments_lexer": "ipython3",
   "version": "3.9.6"
  },
  "toc": {
   "base_numbering": 1,
   "nav_menu": {},
   "number_sections": true,
   "sideBar": true,
   "skip_h1_title": false,
   "title_cell": "Table of Contents",
   "title_sidebar": "Contents",
   "toc_cell": false,
   "toc_position": {},
   "toc_section_display": true,
   "toc_window_display": false
  }
 },
 "nbformat": 4,
 "nbformat_minor": 5
}
