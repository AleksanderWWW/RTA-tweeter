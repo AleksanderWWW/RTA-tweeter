{
 "cells": [
  {
   "cell_type": "code",
   "execution_count": 3,
   "id": "95373697",
   "metadata": {},
   "outputs": [],
   "source": [
    "import requests\n",
    "import json"
   ]
  },
  {
   "cell_type": "code",
   "execution_count": 4,
   "id": "3cfe45b1",
   "metadata": {},
   "outputs": [],
   "source": [
    "# =============================================================\n",
    "# CONFIGURATION\n",
    "# =============================================================\n",
    "with open(\"config.json\", \"r\", encoding='utf-8') as conf:\n",
    "    config = json.load(conf)"
   ]
  },
  {
   "cell_type": "code",
   "execution_count": 20,
   "id": "5480e5bf",
   "metadata": {},
   "outputs": [],
   "source": [
    "class ApiConnector:\n",
    "    \"\"\"Object providing methods for tweeter data scraping based on hashtag list provided by user\"\"\"\n",
    "    \n",
    "    url_base = \"https://api.twitter.com/2/tweets/search/recent?query={}&max_results={}\"\n",
    "    \n",
    "    def __init__(self, hashtags: list, max_results: int, bearer_token: str):\n",
    "        self.hashtags = hashtags\n",
    "        self.max_results = max_results\n",
    "        \n",
    "        _query_list = [\"%23\" + hashtags[0]]\n",
    "        for tag in hashtags[1:]:\n",
    "            _query_list.append(\"%20OR%20%23\" + tag)\n",
    "        self._query = \"\".join(_query_list)\n",
    "        \n",
    "        self.headers = {\"Authorization\": f\"Bearer {bearer_token}\"}\n",
    "        \n",
    "    def get_hashtags(self) -> list:\n",
    "        return self.hashtags\n",
    "    \n",
    "    def set_hashtags(self, hashtags):\n",
    "        self.hashtags = hashtags\n",
    "        \n",
    "    @property\n",
    "    def api_url(self) -> str:\n",
    "        return self.url_base.format(self._query, self.max_results)\n",
    "    \n",
    "    def get_tweets(self) -> list:\n",
    "        session = requests.Session()\n",
    "        response = session.get(self.api_url, headers=self.headers)\n",
    "        tweets = response.json()[\"data\"]\n",
    "        return [tweet[\"text\"] for tweet in tweets]       \n",
    "    "
   ]
  },
  {
   "cell_type": "code",
   "execution_count": 5,
   "id": "05f374c5",
   "metadata": {},
   "outputs": [],
   "source": [
    "_HASHTAGS = [\"pis\", \"nowylad\"]\n",
    "_MAX_RESULTS = 100"
   ]
  },
  {
   "cell_type": "code",
   "execution_count": 19,
   "id": "b63333a3",
   "metadata": {},
   "outputs": [
    {
     "name": "stdout",
     "output_type": "stream",
     "text": [
      "> \u001b[1;32m<ipython-input-18-e84939126841>\u001b[0m(32)\u001b[0;36mget_tweets\u001b[1;34m()\u001b[0m\n",
      "\u001b[1;32m     29 \u001b[1;33m        \u001b[0mresponse\u001b[0m \u001b[1;33m=\u001b[0m \u001b[0msession\u001b[0m\u001b[1;33m.\u001b[0m\u001b[0mget\u001b[0m\u001b[1;33m(\u001b[0m\u001b[0mself\u001b[0m\u001b[1;33m.\u001b[0m\u001b[0mapi_url\u001b[0m\u001b[1;33m,\u001b[0m \u001b[0mheaders\u001b[0m\u001b[1;33m=\u001b[0m\u001b[0mself\u001b[0m\u001b[1;33m.\u001b[0m\u001b[0mheaders\u001b[0m\u001b[1;33m)\u001b[0m\u001b[1;33m\u001b[0m\u001b[1;33m\u001b[0m\u001b[0m\n",
      "\u001b[0m\u001b[1;32m     30 \u001b[1;33m        \u001b[0mtweets\u001b[0m \u001b[1;33m=\u001b[0m \u001b[0mresponse\u001b[0m\u001b[1;33m.\u001b[0m\u001b[0mjson\u001b[0m\u001b[1;33m(\u001b[0m\u001b[1;33m)\u001b[0m\u001b[1;33m[\u001b[0m\u001b[1;34m\"data\"\u001b[0m\u001b[1;33m]\u001b[0m\u001b[1;33m\u001b[0m\u001b[1;33m\u001b[0m\u001b[0m\n",
      "\u001b[0m\u001b[1;32m     31 \u001b[1;33m        \u001b[0mbreakpoint\u001b[0m\u001b[1;33m(\u001b[0m\u001b[1;33m)\u001b[0m\u001b[1;33m\u001b[0m\u001b[1;33m\u001b[0m\u001b[0m\n",
      "\u001b[0m\u001b[1;32m---> 32 \u001b[1;33m        \u001b[1;32mreturn\u001b[0m \u001b[1;33m[\u001b[0m\u001b[0mtweet\u001b[0m\u001b[1;33m[\u001b[0m\u001b[1;34m\"text\"\u001b[0m\u001b[1;33m]\u001b[0m \u001b[1;32mfor\u001b[0m \u001b[0mtweet\u001b[0m \u001b[1;32min\u001b[0m \u001b[0mtweets\u001b[0m\u001b[1;33m]\u001b[0m\u001b[1;33m\u001b[0m\u001b[1;33m\u001b[0m\u001b[0m\n",
      "\u001b[0m\u001b[1;32m     33 \u001b[1;33m\u001b[1;33m\u001b[0m\u001b[0m\n",
      "\u001b[0m\n",
      "ipdb> c\n",
      "['@tvp_info @GPtygodnik @MSWiA_GOV_PL @wPolityce_pl @MorawieckiM #PopieramPiS2023 #PiS2023 #WybieramPiS2023 #PiS @PopieramyPMM @PK_GOV_PL @bbudka @donaldtusk https://t.co/EhSz0xeDeL', 'RT @WideoWyborcza: Jak się dowiedzieliśmy, na spotkaniu Kaczyńskiego z antyszczepionkowcami posłanka Kurowska przyniosła figurkę św. Andrze…', 'I co, fajnie jest?! Macie ruinę, w którą nie wierzyliście. \"Polski wał\", inflacja, drożyzna, covid \\nhttps://t.co/ypgEfXBuFE\\n\\n#pis #inflacja #polskilad #gaz #prad', 'RT @PanasiukPiotr: #NowyŁad #NowyWal  to ostatni etap wprowadzania w Polsce czwartej rewolucji przemysłowej Klausa Schwaba i globalistów z…', '@matbaczynski @RadioOpornik @Wyrwal @Edytazemla Tak się otwiera drzwi Putinowi, jednocześnie zwalając winę na cyberatak z Moskwy. #PiS trenuje ten patent od jakiegoś czasu, durszlak Dworczyk plus MOL. \\nPolska \\nZjednoczona \\nPrawica \\nRadykalna.', 'Państwo z kartonu.\\n\\n#PiS #Kamienikupa https://t.co/L8OYUGD4bh', 'RT @MiroslawSuchon: Podczas Komisji Infrastruktury @NIKgovPL omawia raport dot. Centralnego Portu Komunikacyjnego. #NIK potwierdza, że decy…', 'RT @rafalhubert: Za @Platforma_org klasa średnia obrzerała się ośmiorniczkami. Szczęśliwie nadszedł @pisorgpl i #NowyŁad wraz z 0% VAT i #T…', 'RT @kuba_urba: Normalnie @mblaszczak do dymisji, ale to nie jest normalne państwo. To jest państwo z kartonu. Co jeszcze może zrobić Nowogr…', 'RT @Marion50758141: https://t.co/ZP48vc4Dnk #ReformaZalewskiej zdewastowała szkoły. #Miażdżący raport #NIK #pis #PolskiLad 🚜🚜🚜🚜🚜🚜 https://t…', 'RT @Bart_Wielinski: Czy #Kaczyński \"pójdzie siedzieć\"? Sam prezes #PiS się tego boi i przestrzega przed oddaniem władzy \\n\\nWg. analizy prawn…', 'RT @kuba_urba: Normalnie @mblaszczak do dymisji, ale to nie jest normalne państwo. To jest państwo z kartonu. Co jeszcze może zrobić Nowogr…', 'RT @WideoWyborcza: Jak się dowiedzieliśmy, na spotkaniu Kaczyńskiego z antyszczepionkowcami posłanka Kurowska przyniosła figurkę św. Andrze…', 'RT @WideoWyborcza: Jak się dowiedzieliśmy, na spotkaniu Kaczyńskiego z antyszczepionkowcami posłanka Kurowska przyniosła figurkę św. Andrze…', 'RT @Bart_Wielinski: Czy #Kaczyński \"pójdzie siedzieć\"? Sam prezes #PiS się tego boi i przestrzega przed oddaniem władzy \\n\\nWg. analizy prawn…', 'RT @Bart_Wielinski: Czy #Kaczyński \"pójdzie siedzieć\"? Sam prezes #PiS się tego boi i przestrzega przed oddaniem władzy \\n\\nWg. analizy prawn…', 'RT @Wiesci24pl: PiS jak sanacja. Nie chce oddać ani guzika, a odda nawet gacie https://t.co/LGoPfq67Nd #Morawiecki #NigdywiecejPiS #PiS #Si…', 'RT @Bart_Wielinski: Czy #Kaczyński \"pójdzie siedzieć\"? Sam prezes #PiS się tego boi i przestrzega przed oddaniem władzy \\n\\nWg. analizy prawn…', 'RT @WideoWyborcza: Jak się dowiedzieliśmy, na spotkaniu Kaczyńskiego z antyszczepionkowcami posłanka Kurowska przyniosła figurkę św. Andrze…', 'RT @WideoWyborcza: Jak się dowiedzieliśmy, na spotkaniu Kaczyńskiego z antyszczepionkowcami posłanka Kurowska przyniosła figurkę św. Andrze…', 'RT @RuchNarodowy: 💬@RobertWinnicki: Mamy do czynienia z historycznie najwyższą podwyżką podatków dla przedsiębiorców i klasy średniej‼️ Pań…', 'RT @PanasiukPiotr: #NowyŁad #NowyWal  to ostatni etap wprowadzania w Polsce czwartej rewolucji przemysłowej Klausa Schwaba i globalistów z…', 'RT @Wiesci24pl: PiS jak sanacja. Nie chce oddać ani guzika, a odda nawet gacie https://t.co/LGoPfq67Nd #Morawiecki #NigdywiecejPiS #PiS #Si…', 'RT @Bart_Wielinski: Dziś w Sejmie premier Morawiecki atakował \"brukselskie elity\".\\nJeszcze niedawno żebrał u nich o pieniądze i przekonywał…', 'RT @Wiesci24pl: PiS jak sanacja. Nie chce oddać ani guzika, a odda nawet gacie https://t.co/LGoPfq67Nd #Morawiecki #NigdywiecejPiS #PiS #Si…', 'RT @DoRzeczy_pl: Niemiecka prasa: Naciski z Brukseli na #PiS mogą przynieść odwrotny skutek\\n\\nhttps://t.co/fy7TLA7zW0', 'RT @Wiesci24pl: PiS jak sanacja. Nie chce oddać ani guzika, a odda nawet gacie https://t.co/LGoPfq67Nd #Morawiecki #NigdywiecejPiS #PiS #Si…', 'RT @WideoWyborcza: Jak się dowiedzieliśmy, na spotkaniu Kaczyńskiego z antyszczepionkowcami posłanka Kurowska przyniosła figurkę św. Andrze…', 'RT @Wiesci24pl: PiS jak sanacja. Nie chce oddać ani guzika, a odda nawet gacie https://t.co/LGoPfq67Nd #Morawiecki #NigdywiecejPiS #PiS #Si…', 'RT @WideoWyborcza: Teresa Hałas (#PiS): #Kaczyński dał nam wolną rękę. Umierają wszyscy, zaszczepieni i niezaszczepieni https://t.co/kTzXBm…', '#PiS plus #Covid, czyli dwie zarazy jednocześnie. #Emilewicz #pandemia #PR #propaganda #statystyka https://t.co/pbTnvowmXI', 'Takiej buty połączonej z niekompetencją to nigdy nie było\\n#wyciekMON #MON #wojsko #PIS', 'Jak myślicie czy to oryginalne nagranie? Czy #Prezes faktycznie wypowiedział te słowa ?\\n#PiS https://t.co/bjZWTFt0kc', 'RT @MBalawelder: idzie nowe - nowy ład, nwo, nowy czlowiek socjalistyczny i nowa moda - kingsajz dla kzdego :D #morawiecki #Pis #pgnige #wi…', 'RT @MiroslawSuchon: Podczas Komisji Infrastruktury @NIKgovPL omawia raport dot. Centralnego Portu Komunikacyjnego. #NIK potwierdza, że decy…', 'RT @PanasiukPiotr: #NowyŁad #NowyWal  to ostatni etap wprowadzania w Polsce czwartej rewolucji przemysłowej Klausa Schwaba i globalistów z…', 'Czy #Kaczyński \"pójdzie siedzieć\"? Sam prezes #PiS się tego boi i przestrzega przed oddaniem władzy \\n\\nWg. analizy prawnej po zmianie władzy możliwe będzie postawienie mu zarzutów karnych. Kaczyński obawia się, iż \"będzie ciągany po prokuraturach\"\\n\\nhttps://t.co/0J8qwRy71U', 'RT @Wiesci24pl: Doradca prezesa PiS kłamał o swoim wykształceniu. Został gwiazdą TVP https://t.co/p76cTFGgNj #PiS #ruskiład #SilniRazem #wi…', 'RT @Wiesci24pl: Jarosław Kaczyński szkolił esbeków. „Jest o nich bardzo dobrego zdania” https://t.co/VOuSKqRoQw #PiS #ruskiład #SilniRazem…', 'RT @pisorgpl: Poseł #PiS @mareksuski w #Sejm: Spłaszczyliśmy możliwość podwyższenia cen gazu na okres trzech lat. Niestety ceną taryfy nie…', 'RT @Bart_Wielinski: Dziś w Sejmie premier Morawiecki atakował \"brukselskie elity\".\\nJeszcze niedawno żebrał u nich o pieniądze i przekonywał…', 'RT @MBalawelder: pierwsza pigula zaszczepiona sola fizjologiczna na covid - zyje !!! [jeszcze] #covid #pis #Polska #zgony https://t.co/Yec8…', 'RT @Wiesci24pl: Twierdził, że Pegasus nie jest wykorzystywany do walki politycznej. Pseudoekspert Konieczny przegrał proces https://t.co/Mo…', 'RT @Wiesci24pl: PiS pobił Nixona. Stworzył aferę większą niż Watergate https://t.co/qMH2le1Qm5 #NigdywiecejPiS #Pegasus #PiS #SilniRazem', 'RT @MBalawelder: ale pamietajcie - oszczedzajcie prad i wode bo trzeba chronic ziemie hahahah #eko #emisja #slad weglowy #co2 #wegiel #pali…', 'RT @SowaMarek: Powiedzieć, że to skandal to nic nie powiedzieć! Małopolska kurator oświaty Barbara #Nowak od 7 tygodni blokuje postępowanie…', 'RT @Bart_Wielinski: Dziś w Sejmie premier Morawiecki atakował \"brukselskie elity\".\\nJeszcze niedawno żebrał u nich o pieniądze i przekonywał…', 'RT @Wiesci24pl: Agent CBA napadł na pocztę. Był kompletnie pijany https://t.co/ArRcmaVtW9 #PiS #ruskiład #SilniRazem #wieszwiecej', 'RT @WideoWyborcza: Jak się dowiedzieliśmy, na spotkaniu Kaczyńskiego z antyszczepionkowcami posłanka Kurowska przyniosła figurkę św. Andrze…', 'RT @wukawu: #NowyŁad w praktyce. Grudzień 21 vs. styczeń 22. +17%. Dziękujemy ci @pisorgpl @MorawieckiM.\\ncc: @Leszczyna https://t.co/zfzrd5…', 'RT @WideoWyborcza: Jak się dowiedzieliśmy, na spotkaniu Kaczyńskiego z antyszczepionkowcami posłanka Kurowska przyniosła figurkę św. Andrze…', 'RT @DoRzeczy_pl: Niemiecka prasa: Naciski z Brukseli na #PiS mogą przynieść odwrotny skutek\\n\\nhttps://t.co/fy7TLA7zW0', 'RT @wukawu: #NowyŁad w praktyce. Grudzień 21 vs. styczeń 22. +17%. Dziękujemy ci @pisorgpl @MorawieckiM.\\ncc: @Leszczyna https://t.co/zfzrd5…', 'RT @PanasiukPiotr: #NowyŁad #NowyWal  to ostatni etap wprowadzania w Polsce czwartej rewolucji przemysłowej Klausa Schwaba i globalistów z…', 'Gdyby #PiS zarządzał Saharą, składającą się wyłącznie ze złotego piasku zbankrutowałby po miesiącu a piasku rozkradzionego przez zarząd szukałoby CBA.\\nPrzesada?\\n\\nZarządzany przez PiS monopolista PGNIG po obsadzeniu swoimi ludźmi przynosi straty😱...i nie chce nowych klientów😱😱', 'RT @WideoWyborcza: Jak się dowiedzieliśmy, na spotkaniu Kaczyńskiego z antyszczepionkowcami posłanka Kurowska przyniosła figurkę św. Andrze…', 'RT @WideoWyborcza: Jak się dowiedzieliśmy, na spotkaniu Kaczyńskiego z antyszczepionkowcami posłanka Kurowska przyniosła figurkę św. Andrze…', 'RT @WideoWyborcza: Jak się dowiedzieliśmy, na spotkaniu Kaczyńskiego z antyszczepionkowcami posłanka Kurowska przyniosła figurkę św. Andrze…', 'Mocno zaburzona dewotka z Krakowa będzie decydować o dyrektorach, nauczycielach i dzieciakach. Małopolska świętuje…. 💪🥳 #LexCzarnek #kaczystan #wariatkowo #pis #nowak', 'RT @Bart_Wielinski: Dziś w Sejmie premier Morawiecki atakował \"brukselskie elity\".\\nJeszcze niedawno żebrał u nich o pieniądze i przekonywał…', 'RT @PawelChojecki: #PiS łajzą i kukiełką stoi... #Mejza #Kukiz #Kaczyński #Czarnek #LexCzarnek #KatoKomuna #Kościół #education #szkoła \\nhtt…', 'RT @rafalhubert: Panie @MorawieckiM jestem pod coraz większym wrażeniem Pańskiego intelektu. Inwestowanie publicznej kasy w coś co samo się…', '@SzJadczak to będzie tak jak z tarczą antyPandemiczną\\n\\nna początku zamykano lasy, były lockdowny i tarcze, a teraz (zmarło&gt;100 tys.) nie sprawdza się nawet szczepiania i wprowadza #nowyLad\\n\\nwniosek: gdy inflacja będzie dwucyfrowa, to czeka nas totalne olewanie,  :/', 'RT @kuba_urba: Z tych nowych maili wynika, że całość wiadomości TVP jest produkowana na Nowogrodzkiej. Jakby mieliśmy o tym świadomość, ale…', 'RT @Bart_Wielinski: Co nauczyciel i radny #PiS z Myślenic mówił uczniom? \\n\"Wypiąć siura\", \\n\"Biegacie jak banda pedałów\",\\n\"Możecie wypiąć bi…', 'RT @Wiesci24pl: Doradca prezesa PiS kłamał o swoim wykształceniu. Został gwiazdą TVP https://t.co/p76cTFGgNj #PiS #ruskiład #SilniRazem #wi…', 'Piotr Müller i Lord Farquaad. Nie szukajcie różnicy. Nie ma jej… #kaczystan #wariatkowo #pis #shrek #dojnazmiana https://t.co/PGJfLxW00B', 'RT @kuba_urba: Normalnie @mblaszczak do dymisji, ale to nie jest normalne państwo. To jest państwo z kartonu. Co jeszcze może zrobić Nowogr…', 'RT @Annabel40505189: Pan Premier @MorawieckiM orze #PatoOpozycję w #Sejm. \\nWiększość Polaków nie ma stanowisk \"Dyrektorskich\" i jest mniej…', '@JEmilewicz Byłaś #PISowską SZMATĄ i do końca życia zostaniesz. A Ty, Twoje dzieci zawsze będą wytykane palcami ... \\nA to całe #PiS w czasie Pandemii https://t.co/if3gVMCJUv', 'RT @MBalawelder: jebani foliarze beda teraz niezaszczepieni hahahahah #certyfikat #pis #szczepionka #covid ##omikron', 'RT @Bart_Wielinski: Co nauczyciel i radny #PiS z Myślenic mówił uczniom? \\n\"Wypiąć siura\", \\n\"Biegacie jak banda pedałów\",\\n\"Możecie wypiąć bi…', 'RT @Bart_Wielinski: Dziś w Sejmie premier Morawiecki atakował \"brukselskie elity\".\\nJeszcze niedawno żebrał u nich o pieniądze i przekonywał…', 'RT @TRuczas: @GCessak @szczepimysie @URPLWMiPB A przebadana przez laboratoria Sanepidu? Sprawdzona czy nie ma wodorotlenku grafenu albo inn…', 'Normalnie @mblaszczak do dymisji, ale to nie jest normalne państwo. To jest państwo z kartonu. Co jeszcze może zrobić Nowogrodzka, żeby mocniej polizać Putina po tyłku? @MON_GOV_PL #kaczystan #pis #panstwoZkartonu @OnetWiadomosci @gazeta_wyborcza https://t.co/gQXXKeKmI5', 'RT @PanasiukPiotr: #NowyŁad #NowyWal  to ostatni etap wprowadzania w Polsce czwartej rewolucji przemysłowej Klausa Schwaba i globalistów z…', 'RT @PanasiukPiotr: #NowyŁad #NowyWal  to ostatni etap wprowadzania w Polsce czwartej rewolucji przemysłowej Klausa Schwaba i globalistów z…', 'RT @Bart_Wielinski: Dziś w Sejmie premier Morawiecki atakował \"brukselskie elity\".\\nJeszcze niedawno żebrał u nich o pieniądze i przekonywał…', 'RT @MiroslawSuchon: Podczas Komisji Infrastruktury @NIKgovPL omawia raport dot. Centralnego Portu Komunikacyjnego. #NIK potwierdza, że decy…', '@PremierRP Jesteście zwykłymi złodziejami. Większość jak nie wszystkie te pieniądze są zabrane nam #Morawiecki  #PiS \\nUżywajcie posty, będziemy je dalej wstawiać https://t.co/eqU07oasZI', 'RT @Marion50758141: https://t.co/zGu2K6oTe8 #Mamy rekord - 21 ministerstw. #Morawiecki miał \"odchudzić\" rząd, a liczba ministrów rośnie #pi…', 'RT @Bart_Wielinski: Dziś w Sejmie premier Morawiecki atakował \"brukselskie elity\".\\nJeszcze niedawno żebrał u nich o pieniądze i przekonywał…', 'RT @Bart_Wielinski: Dziś w Sejmie premier Morawiecki atakował \"brukselskie elity\".\\nJeszcze niedawno żebrał u nich o pieniądze i przekonywał…', '#Minela8\\nTani gaz to sukces #PiS\\nDrogi gaz to #WinaTuska 😆 https://t.co/rhrAhXRHkJ', 'RT @EFedorowicz: To nie może być prawda...\\nWicepremier od bezpieczeństwa Kaczyński Jarosław przecież by nie zaniedbał swoich obowiązków🤔\\n#P…', 'RT @rafalhubert: Za @Platforma_org klasa średnia obrzerała się ośmiorniczkami. Szczęśliwie nadszedł @pisorgpl i #NowyŁad wraz z 0% VAT i #T…', 'Rząd PiS najprawdopodobniej już sprzedał Polskę USA. Fakty oczywiste  #Jedziemy #KPRM #PISJestZaDrogi #KPRM  #NowyWal #NowyŁad #Budka\\n https://t.co/gBkvXtzFek', '#RuchNarodowy\\n#Konfederacja \\n#NowyWał\\n#PolskiWał\\n#PiS\\n#sklep\\n#podatki https://t.co/tqhCuwUHcl', 'RT @rafalhubert: Poseł @BartSienkiewicz ledwo trzyma się na nogach wstrząśnięty efektami społecznymi #NowyŁad Oczywiście zostaje wyśmiany p…', 'RT @Bart_Wielinski: Dziś w Sejmie premier Morawiecki atakował \"brukselskie elity\".\\nJeszcze niedawno żebrał u nich o pieniądze i przekonywał…', 'RT @rafalhubert: Panie @MorawieckiM jestem pod coraz większym wrażeniem Pańskiego intelektu. Inwestowanie publicznej kasy w coś co samo się…', 'RT @rafalhubert: Panie @MorawieckiM jestem pod coraz większym wrażeniem Pańskiego intelektu. Inwestowanie publicznej kasy w coś co samo się…', 'RT @PanasiukPiotr: #NowyŁad #NowyWal  to ostatni etap wprowadzania w Polsce czwartej rewolucji przemysłowej Klausa Schwaba i globalistów z…', 'Gigantyczny wyciek danych z wojska. Ponad 1,7 mln pozycji w internecie #Jedziemy #KPRM #aferamailowa #PISJestZaDrogi #KPRM  #NowyWal #NowyŁad #Budka\\nhttps://t.co/0GXoRblP1S', 'RT @WideoWyborcza: Bartłomiej #Sienkiewicz: Moje potknięcie nie przykryje potknięcia rządu #PiS https://t.co/7oPGW10CDg', 'RT @bbrzoska88: @Teresa55876029 @a_milczanowska @pisorgpl @MorawieckiM Na kłamstwie i wałkach oparli istnienie Porozumienia Centrum a potem…', 'RT @DoRzeczy_pl: Niemiecka prasa: Naciski z Brukseli na #PiS mogą przynieść odwrotny skutek\\n\\nhttps://t.co/fy7TLA7zW0', 'RT @PanasiukPiotr: #NowyŁad #NowyWal  to ostatni etap wprowadzania w Polsce czwartej rewolucji przemysłowej Klausa Schwaba i globalistów z…', 'RT @DoRzeczy_pl: Niemiecka prasa: Naciski z Brukseli na #PiS mogą przynieść odwrotny skutek\\n\\nhttps://t.co/fy7TLA7zW0', 'RT @Annabel40505189: Pan Premier @MorawieckiM orze #PatoOpozycję w #Sejm. \\nWiększość Polaków nie ma stanowisk \"Dyrektorskich\" i jest mniej…']\n"
     ]
    }
   ],
   "source": [
    "conn = ApiConnector(hashtags=_HASHTAGS,\n",
    "                   max_results=_MAX_RESULTS,\n",
    "                   bearer_token=config[\"bearer_token\"])\n",
    "\n",
    "print(conn.get_tweets())"
   ]
  }
 ],
 "metadata": {
  "kernelspec": {
   "display_name": "Python 3",
   "language": "python",
   "name": "python3"
  },
  "language_info": {
   "codemirror_mode": {
    "name": "ipython",
    "version": 3
   },
   "file_extension": ".py",
   "mimetype": "text/x-python",
   "name": "python",
   "nbconvert_exporter": "python",
   "pygments_lexer": "ipython3",
   "version": "3.9.6"
  },
  "toc": {
   "base_numbering": 1,
   "nav_menu": {},
   "number_sections": true,
   "sideBar": true,
   "skip_h1_title": false,
   "title_cell": "Table of Contents",
   "title_sidebar": "Contents",
   "toc_cell": false,
   "toc_position": {},
   "toc_section_display": true,
   "toc_window_display": false
  }
 },
 "nbformat": 4,
 "nbformat_minor": 5
}
