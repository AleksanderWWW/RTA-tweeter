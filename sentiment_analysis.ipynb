{
 "cells": [
  {
   "cell_type": "code",
   "execution_count": 1,
   "id": "502127ef",
   "metadata": {},
   "outputs": [],
   "source": [
    "\"\"\"Real-time analysis project - tweeter sentiment analysis\"\"\";"
   ]
  },
  {
   "cell_type": "code",
   "execution_count": 2,
   "id": "3dd91e31",
   "metadata": {},
   "outputs": [],
   "source": [
    "import requests\n",
    "import json"
   ]
  },
  {
   "cell_type": "code",
   "execution_count": 76,
   "id": "a8694e7e",
   "metadata": {},
   "outputs": [],
   "source": [
    "# =============================================================\n",
    "# CONFIGURATION\n",
    "# =============================================================\n",
    "with open(\"config.json\", \"r\", encoding='utf-8') as conf:\n",
    "    config = json.load(conf)"
   ]
  },
  {
   "cell_type": "code",
   "execution_count": 4,
   "id": "6b519efa",
   "metadata": {},
   "outputs": [],
   "source": [
    "# =============================================================\n",
    "# TWEET SCRAPING\n",
    "# ============================================================="
   ]
  },
  {
   "cell_type": "code",
   "execution_count": 5,
   "id": "d1d56a1b",
   "metadata": {},
   "outputs": [],
   "source": [
    "class ApiConnector:\n",
    "    \"\"\"Object providing methods for tweeter data scraping based on hashtag list provided by user\"\"\"\n",
    "    \n",
    "    url_base = \"https://api.twitter.com/2/tweets/search/recent?query={}&max_results={}&tweet.fields=created_at\"\n",
    "    \n",
    "    def __init__(self, hashtags: list, max_results: int, bearer_token: str):\n",
    "        self.hashtags = hashtags\n",
    "        self.max_results = max_results\n",
    "        self.headers = {\"Authorization\": f\"Bearer {bearer_token}\"}\n",
    "        \n",
    "    @property\n",
    "    def query(self) -> str:\n",
    "        \n",
    "        _query_list = [\"%23\" + self.hashtags[0]]\n",
    "        \n",
    "        for tag in self.hashtags[1:]:\n",
    "            _query_list.append(\"%20OR%20%23\" + tag)\n",
    "            \n",
    "        _query = \"\".join(_query_list)\n",
    "        return _query\n",
    "        \n",
    "    def get_hashtags(self) -> list:\n",
    "        return self.hashtags\n",
    "    \n",
    "    def set_hashtags(self, hashtags: list) -> None:\n",
    "        self.hashtags = hashtags\n",
    "        \n",
    "    def get_max_results(self) -> int:\n",
    "        return self.max_results\n",
    "        \n",
    "    def set_max_results(max_results: int) -> None:\n",
    "        self.max_results = max_results\n",
    "        \n",
    "    @property\n",
    "    def api_url(self) -> str:\n",
    "        return self.url_base.format(self.query, self.max_results)\n",
    "    \n",
    "    def get_tweets(self) -> list:\n",
    "        \"\"\"Returns a list containing scraped tweets\"\"\"\n",
    "        session = requests.Session()\n",
    "        response = session.get(self.api_url, headers=self.headers)\n",
    "        session.close()\n",
    "        \n",
    "        tweets = response.json()[\"data\"]\n",
    "        return tweets"
   ]
  },
  {
   "cell_type": "code",
   "execution_count": 6,
   "id": "ac435347",
   "metadata": {},
   "outputs": [],
   "source": [
    "_HASHTAGS = [\"polskilad\", \"polskiwal\", \"nowylad\", \"nowywal\", \"drozyznapis\"]\n",
    "_MAX_RESULTS = 10"
   ]
  },
  {
   "cell_type": "code",
   "execution_count": 7,
   "id": "add62f92",
   "metadata": {},
   "outputs": [],
   "source": [
    "conn = ApiConnector(_HASHTAGS,\n",
    "                   _MAX_RESULTS,\n",
    "                   config[\"bearer_token\"])\n"
   ]
  },
  {
   "cell_type": "code",
   "execution_count": 8,
   "id": "700739e1",
   "metadata": {},
   "outputs": [],
   "source": [
    "tweets = conn.get_tweets()"
   ]
  },
  {
   "cell_type": "code",
   "execution_count": null,
   "id": "a3b0ec6c",
   "metadata": {},
   "outputs": [],
   "source": [
    "# =============================================================\n",
    "# SENTIMENT ANALYSIS\n",
    "# ============================================================="
   ]
  },
  {
   "cell_type": "code",
   "execution_count": 8,
   "id": "d2a91778",
   "metadata": {},
   "outputs": [],
   "source": [
    "import re\n",
    "from textblob import TextBlob\n",
    "from nltk.sentiment.vader import SentimentIntensityAnalyzer\n",
    "from pyspark import SparkConf,SparkContext\n",
    "from pyspark.sql import SparkSession"
   ]
  },
  {
   "cell_type": "code",
   "execution_count": 16,
   "id": "a33ccd74",
   "metadata": {},
   "outputs": [],
   "source": [
    "# create spark configuration\n",
    "conf = SparkConf()\n",
    "conf.setAppName(\"TwitterAnalysisApp\")\n",
    "# create spark context with the above configuration\n",
    "sc = SparkContext(conf=conf)\n",
    "sc.setLogLevel(\"ERROR\")\n",
    "# create spark session\n",
    "spark = SparkSession(sc)"
   ]
  },
  {
   "cell_type": "code",
   "execution_count": 51,
   "id": "85bd8fb0",
   "metadata": {},
   "outputs": [],
   "source": [
    "\"\"\"Define transformations\"\"\"\n",
    "\n",
    "def get_score(text: str) -> dict:\n",
    "    return SentimentIntensityAnalyzer().polarity_scores(text)\n",
    "\n",
    "\n",
    "def clean_text(text) -> str:\n",
    "\n",
    "        text=re.sub(r'@[A-Za-z0-9!#$%^&*_]+', '', text)\n",
    "\n",
    "        text=re.sub(r'#', '', text)\n",
    "\n",
    "        text=re.sub(r'RT[\\s]+', '', text)\n",
    "\n",
    "        text=re.sub(r'https?:\\/\\/\\S+', '', text)\n",
    "\n",
    "        text=re.sub(r'\\n', '', text) \n",
    "\n",
    "        if text[0] == \":\":\n",
    "            text = text[1:]\n",
    "\n",
    "        return\"\".join([i if ord(i) < 128 else \"\" for i in text])\n",
    "\n",
    "    \n",
    "def leave_char(letter):\n",
    "    return str.isalpha(letter) or letter == \" \"\n",
    "\n",
    "\n",
    "def prepare_text(text):\n",
    "    text_cleaned = clean_text(text)\n",
    "    text_raw = ''.join(filter(leave_char, text_cleaned))\n",
    "    return str(TextBlob(text_raw).translate(from_lang = 'pl', to = 'eng'))    \n",
    "\n",
    "\n",
    "def count_hashtags(text: str) -> dict:\n",
    "    res = {}\n",
    "    for word in text.split(\" \"):\n",
    "        if \"#\" in word:\n",
    "            if word.strip() not in res:\n",
    "                res[word.strip()] = 1\n",
    "            else:\n",
    "                res[word.strip()] += 1\n",
    "    return res\n",
    "\n",
    "def score_raw_text(raw_text: str) -> dict:\n",
    "    return get_score(prepare_text(raw_text))"
   ]
  },
  {
   "cell_type": "code",
   "execution_count": 49,
   "id": "bb1ff767",
   "metadata": {},
   "outputs": [],
   "source": [
    "# load tweets to spark dataframe\n",
    "sDf = spark.createDataFrame(tweets, [\"id\", \"timestamp\", \"text\"])"
   ]
  },
  {
   "cell_type": "code",
   "execution_count": 58,
   "id": "3f89c2b0",
   "metadata": {},
   "outputs": [
    {
     "name": "stdout",
     "output_type": "stream",
     "text": [
      "+--------------------+-------------------+--------------------+--------------------+\n",
      "|           timestamp|                 id|               score|            hashtags|\n",
      "+--------------------+-------------------+--------------------+--------------------+\n",
      "|2022-01-17T11:00:...|1483031548039413762|{neg -> 0.176, po...|{#Pols… -> 1, #Wa...|\n",
      "|2022-01-17T11:00:...|1483031513545515010|{neg -> 0.0, pos ...|{#projektdomu -> ...|\n",
      "|2022-01-17T11:00:...|1483031347807625219|{neg -> 0.266, po...|    {#NowyWał. -> 1}|\n",
      "|2022-01-17T11:00:...|1483031343311298564|{neg -> 0.064, po...|{leków.\n",
      "\n",
      "#NowyWał...|\n",
      "|2022-01-17T10:59:...|1483031166617890817|{neg -> 0.0, pos ...|     {#NowyWał -> 1}|\n",
      "|2022-01-17T10:59:...|1483031140357267461|{neg -> 0.0, pos ...|{#KAS -> 1, #Pols...|\n",
      "|2022-01-17T10:59:...|1483031133856088071|{neg -> 0.0, pos ...|     {#NowyWał -> 1}|\n",
      "|2022-01-17T10:59:...|1483031112318427136|{neg -> 0.266, po...|    {#NowyWał. -> 1}|\n",
      "|2022-01-17T10:59:...|1483031091971821569|{neg -> 0.0, pos ...|{#Morawiecki -> 1...|\n",
      "|2022-01-17T10:58:...|1483031003107102727|{neg -> 0.266, po...|    {#NowyWał. -> 1}|\n",
      "+--------------------+-------------------+--------------------+--------------------+\n",
      "\n"
     ]
    }
   ],
   "source": [
    "\"\"\"Transform data with spark rdd.map\"\"\"\n",
    "rdd = sDf.rdd\n",
    "rdd2 = rdd.map(lambda x: (x[\"id\"], x[\"timestamp\"], score_raw_text(x[\"text\"]), count_hashtags(x[\"text\"])))\n",
    "final_sDf = rdd2.toDF([\"timestamp\", \"id\", \"score\", \"hashtags\"])\n",
    "final_sDf.show()"
   ]
  },
  {
   "cell_type": "code",
   "execution_count": null,
   "id": "a54e7706",
   "metadata": {},
   "outputs": [],
   "source": [
    "# =============================================================\n",
    "# DATABASE\n",
    "# ============================================================="
   ]
  },
  {
   "cell_type": "code",
   "execution_count": 59,
   "id": "1073984a",
   "metadata": {},
   "outputs": [],
   "source": [
    "\"\"\"Prepare data frame for sending\"\"\"\n",
    "pDf = final_sDf.toPandas()\n",
    "pDf = pd.concat([pDf, pd.json_normalize(pDf[\"score\"])], axis=1)\n",
    "\n",
    "# create table for score\n",
    "score_df = pDf.loc[:, [\"id\", \"timestamp\", \"neg\", \"neu\", \"pos\", \"compound\"]]\n",
    "#df_score.rename(columns={\"id\": \"ID\", \"created_at\": \"TIMESTAMP\", \"neg\": \"NEG\", \n",
    "#                         \"neu\": \"NEU\", \"pos\": \"POS\", \"compound\": \"COMPOUND\"}, inplace=True)\n",
    "\n",
    "# create table for hashtags\n",
    "hashtag_df = pd.DataFrame([[i, k, v] for i, d in pDf[['id', 'hashtags']].values for k, v in d.items()],\n",
    "columns=['id','hashtags', 'value'])\n",
    "hashtag_df.drop(\"value\", axis=1, inplace=True)"
   ]
  },
  {
   "cell_type": "code",
   "execution_count": 72,
   "id": "b14f3b51",
   "metadata": {},
   "outputs": [],
   "source": [
    "\"\"\"Connect to database\"\"\"\n",
    "from snowflake.sqlalchemy import URL\n",
    "from sqlalchemy import create_engine"
   ]
  },
  {
   "cell_type": "code",
   "execution_count": 78,
   "id": "1e350886",
   "metadata": {},
   "outputs": [],
   "source": [
    "config = config[\"database\"]"
   ]
  },
  {
   "cell_type": "code",
   "execution_count": 79,
   "id": "b7beac57",
   "metadata": {},
   "outputs": [],
   "source": [
    "engine = create_engine(URL(\n",
    "    user=config[\"user\"],\n",
    "    password=config[\"password\"],\n",
    "    account=config[\"account\"],\n",
    "    warehouse=config[\"warehouse\"],\n",
    "    database=config[\"database\"],\n",
    "    schema =config[\"schema\"]\n",
    "))\n",
    " \n",
    "db_connection = engine.connect()"
   ]
  },
  {
   "cell_type": "code",
   "execution_count": 80,
   "id": "161bad1f",
   "metadata": {},
   "outputs": [],
   "source": [
    "# save score to database\n",
    "score_df.to_sql(\"analiza_sentymentu\", db_connection, if_exists='append', index=False)\n",
    "\n",
    "# save hashtags to database"
   ]
  },
  {
   "cell_type": "code",
   "execution_count": null,
   "id": "5accf9ea",
   "metadata": {},
   "outputs": [],
   "source": []
  }
 ],
 "metadata": {
  "kernelspec": {
   "display_name": "Python 3",
   "language": "python",
   "name": "python3"
  },
  "language_info": {
   "codemirror_mode": {
    "name": "ipython",
    "version": 3
   },
   "file_extension": ".py",
   "mimetype": "text/x-python",
   "name": "python",
   "nbconvert_exporter": "python",
   "pygments_lexer": "ipython3",
   "version": "3.8.5"
  }
 },
 "nbformat": 4,
 "nbformat_minor": 5
}
